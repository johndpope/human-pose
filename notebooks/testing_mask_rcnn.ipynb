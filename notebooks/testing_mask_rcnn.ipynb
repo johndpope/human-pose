{
 "cells": [
  {
   "cell_type": "code",
   "execution_count": 1,
   "metadata": {},
   "outputs": [],
   "source": [
    "import os\n",
    "import sys; sys.path.append('..')\n",
    "import json\n",
    "from pycocotools.coco import COCO\n",
    "from src.dataloaders.coco import CocoDetection\n",
    "\n",
    "os.environ['CUDA_VISIBLE_DEVICES'] = '8,9'\n",
    "device = 'cuda:0'"
   ]
  },
  {
   "cell_type": "code",
   "execution_count": 2,
   "metadata": {},
   "outputs": [
    {
     "name": "stdout",
     "output_type": "stream",
     "text": [
      "loading annotations into memory...\n",
      "Done (t=13.73s)\n",
      "creating index...\n",
      "index created!\n"
     ]
    }
   ],
   "source": [
    "import torch\n",
    "from typing import List\n",
    "from torchvision import transforms\n",
    "from torch.utils.data import DataLoader\n",
    "\n",
    "def collate_batch(batch):\n",
    "    images = [img for img, target in batch]\n",
    "    targets = [target for img, target in batch]\n",
    "\n",
    "    return images, targets\n",
    "\n",
    "def to_xyxy_format(bbox) -> List:\n",
    "    # Converts bbox from coco format (x, y, width, height)\n",
    "    # to \"x1, y1, x2, y2\" format (pascal voc?)\n",
    "    return [bbox[0], bbox[1], bbox[0] + bbox[2], bbox[1] + bbox[3]]\n",
    "\n",
    "def torchvision_target_format(target):\n",
    "    return {\n",
    "        'image_id': target[0]['image_id'],\n",
    "        'labels': torch.Tensor([obj['category_id'] for obj in target]).long().to(device),\n",
    "        'boxes': torch.Tensor([to_xyxy_format(obj['bbox']) for obj in target]).to(device),\n",
    "        'masks': torch.Tensor([obj['mask'] for obj in target]).to(device),\n",
    "        'coco_anns': target,\n",
    "    }\n",
    "\n",
    "train_ds = CocoDetection('/home/skorokhodov/densepose/coco/coco_train2014',\n",
    "                         '/home/skorokhodov/densepose/coco/annotations/instances_train2014.json',\n",
    "                         transform=transforms.ToTensor(),\n",
    "                         target_transform=torchvision_target_format)\n",
    "train_dataloader = DataLoader(train_ds, batch_size=1, collate_fn=collate_batch)"
   ]
  },
  {
   "cell_type": "code",
   "execution_count": 58,
   "metadata": {},
   "outputs": [],
   "source": [
    "from torchvision.models.detection.mask_rcnn import maskrcnn_resnet50_fpn\n",
    "\n",
    "model = maskrcnn_resnet50_fpn().to(device).eval()\n",
    "imgs, targets = next(iter(train_dataloader))"
   ]
  },
  {
   "cell_type": "code",
   "execution_count": 34,
   "metadata": {},
   "outputs": [],
   "source": [
    "from torchvision.models.detection.transform import GeneralizedRCNNTransform\n",
    "\n",
    "image_mean = [0.485, 0.456, 0.406]\n",
    "image_std = [0.229, 0.224, 0.225]\n",
    "min_size = 800\n",
    "max_size = 1333\n",
    "transform = GeneralizedRCNNTransform(min_size, max_size, image_mean, image_std)"
   ]
  },
  {
   "cell_type": "code",
   "execution_count": 55,
   "metadata": {},
   "outputs": [],
   "source": [
    "model = model.to(device).eval()"
   ]
  },
  {
   "cell_type": "code",
   "execution_count": 62,
   "metadata": {},
   "outputs": [
    {
     "name": "stderr",
     "output_type": "stream",
     "text": [
      "100%|██████████| 50/50 [00:02<00:00, 25.61it/s]\n"
     ]
    },
    {
     "data": {
      "text/plain": [
       "(0.040575594902038575, 0.011300739142151206)"
      ]
     },
     "execution_count": 62,
     "metadata": {},
     "output_type": "execute_result"
    }
   ],
   "source": [
    "import time\n",
    "import numpy as np\n",
    "from tqdm import tqdm\n",
    "\n",
    "times = []\n",
    "\n",
    "for _ in tqdm(range(50)):\n",
    "    with torch.no_grad():\n",
    "        start = time.time()\n",
    "        _ = model.backbone(transform(imgs)[0].tensors[0].to(device).unsqueeze(0))\n",
    "        #_ = model([imgs[0].to(device)])\n",
    "        elapsed = time.time() - start\n",
    "        times.append(elapsed)\n",
    "    \n",
    "np.mean(times), np.std(times)"
   ]
  },
  {
   "cell_type": "code",
   "execution_count": 63,
   "metadata": {},
   "outputs": [
    {
     "data": {
      "text/plain": [
       "0.629356311484564"
      ]
     },
     "execution_count": 63,
     "metadata": {},
     "output_type": "execute_result"
    }
   ],
   "source": [
    "0.040575594902038575 / 0.06447157859802247"
   ]
  },
  {
   "cell_type": "code",
   "execution_count": 30,
   "metadata": {},
   "outputs": [
    {
     "name": "stdout",
     "output_type": "stream",
     "text": [
      "----------------------------------------------------------------\n",
      "        Layer (type)               Output Shape         Param #\n",
      "================================================================\n",
      "            Conv2d-1          [-1, 256, 14, 14]         590,080\n",
      "              ReLU-2          [-1, 256, 14, 14]               0\n",
      "            Conv2d-3          [-1, 256, 14, 14]         590,080\n",
      "              ReLU-4          [-1, 256, 14, 14]               0\n",
      "            Conv2d-5          [-1, 256, 14, 14]         590,080\n",
      "              ReLU-6          [-1, 256, 14, 14]               0\n",
      "            Conv2d-7          [-1, 256, 14, 14]         590,080\n",
      "              ReLU-8          [-1, 256, 14, 14]               0\n",
      "================================================================\n",
      "Total params: 2,360,320\n",
      "Trainable params: 2,360,320\n",
      "Non-trainable params: 0\n",
      "----------------------------------------------------------------\n",
      "Input size (MB): 0.19\n",
      "Forward/backward pass size (MB): 3.06\n",
      "Params size (MB): 9.00\n",
      "Estimated Total Size (MB): 12.26\n",
      "----------------------------------------------------------------\n"
     ]
    }
   ],
   "source": [
    "from torchsummary import summary\n",
    "\n",
    "model = model.to('cuda')\n",
    "summary(model.roi_heads.mask_head, (256, 14, 14))"
   ]
  },
  {
   "cell_type": "code",
   "execution_count": null,
   "metadata": {},
   "outputs": [],
   "source": [
    "from torchvision.models.detection.mask_rcnn import resnet_fpn_backbone\n",
    "\n",
    "b = resnet_fpn_backbone('resnet50', True)\n"
   ]
  }
 ],
 "metadata": {
  "kernelspec": {
   "display_name": "Python 3",
   "language": "python",
   "name": "python3"
  },
  "language_info": {
   "codemirror_mode": {
    "name": "ipython",
    "version": 3
   },
   "file_extension": ".py",
   "mimetype": "text/x-python",
   "name": "python",
   "nbconvert_exporter": "python",
   "pygments_lexer": "ipython3",
   "version": "3.6.8"
  }
 },
 "nbformat": 4,
 "nbformat_minor": 2
}
